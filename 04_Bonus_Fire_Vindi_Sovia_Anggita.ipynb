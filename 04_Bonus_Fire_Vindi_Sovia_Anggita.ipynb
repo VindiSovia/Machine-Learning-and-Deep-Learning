{
  "nbformat": 4,
  "nbformat_minor": 0,
  "metadata": {
    "colab": {
      "provenance": [],
      "gpuType": "T4",
      "include_colab_link": true
    },
    "kernelspec": {
      "name": "python3",
      "display_name": "Python 3"
    },
    "language_info": {
      "name": "python"
    },
    "accelerator": "GPU"
  },
  "cells": [
    {
      "cell_type": "markdown",
      "metadata": {
        "id": "view-in-github",
        "colab_type": "text"
      },
      "source": [
        "<a href=\"https://colab.research.google.com/github/VindiSovia/Machine-Learning-and-Deep-Learning/blob/main/04_Bonus_Fire_Vindi_Sovia_Anggita.ipynb\" target=\"_parent\"><img src=\"https://colab.research.google.com/assets/colab-badge.svg\" alt=\"Open In Colab\"/></a>"
      ]
    },
    {
      "cell_type": "code",
      "execution_count": null,
      "metadata": {
        "id": "fHnZdPZhEfsg",
        "outputId": "99df34cb-3c80-46fb-f774-02019f860fc3",
        "colab": {
          "base_uri": "https://localhost:8080/"
        }
      },
      "outputs": [
        {
          "output_type": "stream",
          "name": "stdout",
          "text": [
            "Downloading http://yann.lecun.com/exdb/mnist/train-images-idx3-ubyte.gz\n",
            "Downloading http://yann.lecun.com/exdb/mnist/train-images-idx3-ubyte.gz to data/MNIST/raw/train-images-idx3-ubyte.gz\n"
          ]
        },
        {
          "output_type": "stream",
          "name": "stderr",
          "text": [
            "100%|██████████| 9912422/9912422 [00:00<00:00, 179942485.37it/s]"
          ]
        },
        {
          "output_type": "stream",
          "name": "stdout",
          "text": [
            "Extracting data/MNIST/raw/train-images-idx3-ubyte.gz to data/MNIST/raw\n"
          ]
        },
        {
          "output_type": "stream",
          "name": "stderr",
          "text": [
            "\n"
          ]
        },
        {
          "output_type": "stream",
          "name": "stdout",
          "text": [
            "\n",
            "Downloading http://yann.lecun.com/exdb/mnist/train-labels-idx1-ubyte.gz\n",
            "Downloading http://yann.lecun.com/exdb/mnist/train-labels-idx1-ubyte.gz to data/MNIST/raw/train-labels-idx1-ubyte.gz\n"
          ]
        },
        {
          "output_type": "stream",
          "name": "stderr",
          "text": [
            "100%|██████████| 28881/28881 [00:00<00:00, 3299890.87it/s]\n"
          ]
        },
        {
          "output_type": "stream",
          "name": "stdout",
          "text": [
            "Extracting data/MNIST/raw/train-labels-idx1-ubyte.gz to data/MNIST/raw\n",
            "\n",
            "Downloading http://yann.lecun.com/exdb/mnist/t10k-images-idx3-ubyte.gz\n",
            "Downloading http://yann.lecun.com/exdb/mnist/t10k-images-idx3-ubyte.gz to data/MNIST/raw/t10k-images-idx3-ubyte.gz\n"
          ]
        },
        {
          "output_type": "stream",
          "name": "stderr",
          "text": [
            "100%|██████████| 1648877/1648877 [00:00<00:00, 64315924.83it/s]\n"
          ]
        },
        {
          "output_type": "stream",
          "name": "stdout",
          "text": [
            "Extracting data/MNIST/raw/t10k-images-idx3-ubyte.gz to data/MNIST/raw\n",
            "\n",
            "Downloading http://yann.lecun.com/exdb/mnist/t10k-labels-idx1-ubyte.gz\n",
            "Downloading http://yann.lecun.com/exdb/mnist/t10k-labels-idx1-ubyte.gz to data/MNIST/raw/t10k-labels-idx1-ubyte.gz\n"
          ]
        },
        {
          "output_type": "stream",
          "name": "stderr",
          "text": [
            "100%|██████████| 4542/4542 [00:00<00:00, 20484439.54it/s]\n"
          ]
        },
        {
          "output_type": "stream",
          "name": "stdout",
          "text": [
            "Extracting data/MNIST/raw/t10k-labels-idx1-ubyte.gz to data/MNIST/raw\n",
            "\n",
            "Model with ReLU Activation:\n",
            "Epoch 1: Accuracy=0.8212, F1 Score=0.8124, Precision=0.8302, Recall=0.8157\n",
            "Epoch 2: Accuracy=0.8684, F1 Score=0.8656, Precision=0.8677, Recall=0.8658\n",
            "Epoch 3: Accuracy=0.8861, F1 Score=0.8838, Precision=0.8848, Recall=0.8843\n",
            "Epoch 4: Accuracy=0.8951, F1 Score=0.8933, Precision=0.8938, Recall=0.8935\n",
            "Epoch 5: Accuracy=0.9001, F1 Score=0.8983, Precision=0.8989, Recall=0.8985\n",
            "Epoch 6: Accuracy=0.9038, F1 Score=0.9021, Precision=0.9029, Recall=0.9024\n",
            "Epoch 7: Accuracy=0.9082, F1 Score=0.9067, Precision=0.9069, Recall=0.9069\n",
            "Epoch 8: Accuracy=0.9096, F1 Score=0.9081, Precision=0.9085, Recall=0.9083\n",
            "Epoch 9: Accuracy=0.9141, F1 Score=0.9128, Precision=0.9129, Recall=0.9131\n",
            "Epoch 10: Accuracy=0.9161, F1 Score=0.9149, Precision=0.9154, Recall=0.9149\n",
            "\n",
            "\n",
            "Model with Sigmoid Activation:\n",
            "Epoch 1: Accuracy=0.5492, F1 Score=0.5147, Precision=0.7242, Recall=0.5385\n",
            "Epoch 2: Accuracy=0.6259, F1 Score=0.5692, Precision=0.7522, Recall=0.6157\n",
            "Epoch 3: Accuracy=0.7120, F1 Score=0.6744, Precision=0.7800, Recall=0.7020\n",
            "Epoch 4: Accuracy=0.7860, F1 Score=0.7753, Precision=0.8041, Recall=0.7799\n",
            "Epoch 5: Accuracy=0.8050, F1 Score=0.7961, Precision=0.8149, Recall=0.7999\n",
            "Epoch 6: Accuracy=0.8298, F1 Score=0.8240, Precision=0.8334, Recall=0.8254\n",
            "Epoch 7: Accuracy=0.8427, F1 Score=0.8382, Precision=0.8435, Recall=0.8391\n",
            "Epoch 8: Accuracy=0.8529, F1 Score=0.8494, Precision=0.8529, Recall=0.8501\n",
            "Epoch 9: Accuracy=0.8620, F1 Score=0.8593, Precision=0.8606, Recall=0.8597\n",
            "Epoch 10: Accuracy=0.8678, F1 Score=0.8653, Precision=0.8665, Recall=0.8654\n",
            "\n",
            "\n",
            "Model with Tanh Activation:\n",
            "Epoch 1: Accuracy=0.8286, F1 Score=0.8225, Precision=0.8342, Recall=0.8241\n",
            "Epoch 2: Accuracy=0.8709, F1 Score=0.8684, Precision=0.8702, Recall=0.8686\n",
            "Epoch 3: Accuracy=0.8874, F1 Score=0.8854, Precision=0.8862, Recall=0.8857\n",
            "Epoch 4: Accuracy=0.8937, F1 Score=0.8919, Precision=0.8924, Recall=0.8922\n",
            "Epoch 5: Accuracy=0.8977, F1 Score=0.8961, Precision=0.8964, Recall=0.8963\n",
            "Epoch 6: Accuracy=0.9010, F1 Score=0.8994, Precision=0.8997, Recall=0.8996\n",
            "Epoch 7: Accuracy=0.9054, F1 Score=0.9038, Precision=0.9043, Recall=0.9040\n",
            "Epoch 8: Accuracy=0.9078, F1 Score=0.9064, Precision=0.9067, Recall=0.9065\n",
            "Epoch 9: Accuracy=0.9086, F1 Score=0.9073, Precision=0.9075, Recall=0.9074\n",
            "Epoch 10: Accuracy=0.9118, F1 Score=0.9105, Precision=0.9106, Recall=0.9108\n",
            "\n",
            "\n"
          ]
        }
      ],
      "source": [
        "import torch\n",
        "import torch.nn as nn\n",
        "import torch.optim as optim\n",
        "import torchvision\n",
        "from torchvision.transforms import ToTensor\n",
        "from sklearn.metrics import accuracy_score, confusion_matrix, f1_score, precision_score, recall_score\n",
        "\n",
        "train_data = torchvision.datasets.MNIST(root='data', train=True, transform=ToTensor(), download=True)\n",
        "test_data = torchvision.datasets.MNIST(root='data', train=False, transform=ToTensor(), download=True)\n",
        "\n",
        "train_loader = torch.utils.data.DataLoader(train_data, batch_size=128, shuffle=True)\n",
        "test_loader = torch.utils.data.DataLoader(test_data, batch_size=128, shuffle=False)\n",
        "\n",
        "def train_and_evaluate(model, activation_function, num_epochs=10):\n",
        "\n",
        "    learning_rate = 0.01\n",
        "    optimizer = optim.SGD(model.parameters(), lr=learning_rate)\n",
        "    criterion = nn.CrossEntropyLoss()\n",
        "\n",
        "\n",
        "    for epoch in range(num_epochs):\n",
        "        model.train()\n",
        "        for images, labels in train_loader:\n",
        "            optimizer.zero_grad()\n",
        "            outputs = model(images)\n",
        "            loss = criterion(outputs, labels)\n",
        "            loss.backward()\n",
        "            optimizer.step()\n",
        "\n",
        "        model.eval()\n",
        "        with torch.no_grad():\n",
        "            all_preds = []\n",
        "            all_labels = []\n",
        "            for images, labels in test_loader:\n",
        "                outputs = model(images)\n",
        "                _, preds = torch.max(outputs, 1)\n",
        "                all_preds.extend(preds.cpu().numpy())\n",
        "                all_labels.extend(labels.cpu().numpy())\n",
        "\n",
        "            acc = accuracy_score(all_labels, all_preds)\n",
        "            f1 = f1_score(all_labels, all_preds, average='macro', zero_division=0)\n",
        "            precision = precision_score(all_labels, all_preds, average='macro', zero_division=0)\n",
        "            recall = recall_score(all_labels, all_preds, average='macro', zero_division=0)\n",
        "\n",
        "        print(f'Epoch {epoch + 1}: Accuracy={acc:.4f}, F1 Score={f1:.4f}, Precision={precision:.4f}, Recall={recall:.4f}')\n",
        "\n",
        "class SimpleModel(nn.Module):\n",
        "    def __init__(self, activation_function):\n",
        "        super(SimpleModel, self).__init__()\n",
        "        self.flatten = nn.Flatten()\n",
        "        self.fc1 = nn.Linear(28*28, 256)\n",
        "        self.activation = activation_function\n",
        "        self.fc2 = nn.Linear(256, 10)\n",
        "\n",
        "    def forward(self, x):\n",
        "        x = self.flatten(x)\n",
        "        x = self.fc1(x)\n",
        "        x = self.activation(x)\n",
        "        x = self.fc2(x)\n",
        "        return x\n",
        "\n",
        "activation_functions = [nn.ReLU(), nn.Sigmoid(), nn.Tanh()]\n",
        "\n",
        "for activation_function in activation_functions:\n",
        "    model = SimpleModel(activation_function)\n",
        "    print(f\"Model with {activation_function.__class__.__name__} Activation:\")\n",
        "    train_and_evaluate(model, activation_function)\n",
        "    print(\"\\n\")"
      ]
    }
  ]
}